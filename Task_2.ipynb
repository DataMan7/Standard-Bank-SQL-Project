{
 "cells": [
  {
   "cell_type": "markdown",
   "metadata": {
    "id": "3BWhOQssOTMl"
   },
   "source": [
    "# Task 2 \n",
    "\n",
    "## Credit / Home Loans - AutoML vs Bespoke ML\n",
    "\n",
    "Standard Bank is embracing the digital transformation wave and intends to use new and exciting technologies to give their customers a complete set of services from the convenience of their mobile devices.\n",
    "As Africa’s biggest lender by assets, the bank aims to improve the current process in which potential borrowers apply for a home loan. The current process involves loan officers having to manually process home loan applications. This process takes 2 to 3 days to process upon which the applicant will receive communication on whether or not they have been granted the loan for the requested amount.\n",
    "To improve the process Standard Bank wants to make use of machine learning to assess the credit worthiness of an applicant by implementing a model that will predict if the potential borrower will default on his/her loan or not, and do this such that the applicant receives a response immediately after completing their application. \n",
    "\n",
    "You will be required to follow the data science lifecycle to fulfill the objective. The data science lifecycle (https://www.datascience-pm.com/crisp-dm-2/) includes:\n",
    "\n",
    "- Business Understanding\n",
    "- Data Understanding\n",
    "- Data Preparation\n",
    "- Modelling\n",
    "- Evaluation\n",
    "- Deployment.\n",
    "\n",
    "You now know the CRoss Industry Standard Process for Data Mining (CRISP-DM), have an idea of the business needs and objectivess, and understand the data. Next is the tedious task of preparing the data for modeling, modeling and evaluating the model. Luckily, just like EDA the first of the two phases can be automated. But also, just like EDA this is not always best. \n",
    "\n",
    "\n",
    "In this task you will be get a taste of AutoML and Bespoke ML. In the notebook we make use of the library auto-sklearn/autosklearn (https://www.automl.org/automl/auto-sklearn/) for AutoML and sklearn for ML. We will use train one machine for the traditional approach and you will be required to change this model to any of the models that exist in sklearn. The model we will train will be a Logistic Regression. Parts of the data preparation will be omitted for you to do, but we will provide hints to lead you in the right direction.\n",
    "\n",
    "The data provided can be found in the Resources folder as well as (https://www.kaggle.com/datasets/altruistdelhite04/loan-prediction-problem-dataset).\n",
    "\n",
    "- train will serve as the historical dataset that the model will be trained on and,\n",
    "- test will serve as unseen data we will predict on, i.e. new ('future') applicants.\n",
    "\n",
    "### Part One\n",
    "\n",
    "There are many AutoEDA Python libraries out there which include:\n",
    "\n",
    "- dtale (https://dtale.readthedocs.io/en/latest/)\n",
    "- pandas profiling (https://pandas-profiling.ydata.ai/docs/master/index.html)\n",
    "- autoviz (https://readthedocs.org/projects/autoviz/)\n",
    "- sweetviz (https://pypi.org/project/sweetviz/)\n",
    "\n",
    "and many more. In this task we will use Sweetviz.. You may be required to use bespoke EDA methods.\n",
    "\n",
    "The Home Loans Department manager wants to know the following:\n",
    "\n",
    "1. An overview of the data. (HINT: Provide the number of records, fields and their data types. Do for both).\n",
    "\n",
    "2. What data quality issues exist in both train and test? (HINT: Comment any missing values and duplicates)\n",
    "\n",
    "3. How do the the loan statuses compare? i.e. what is the distrubition of each?\n",
    "\n",
    "4. How do women and men compare when it comes to defaulting on loans in the historical dataset?\n",
    "\n",
    "5. How many of the loan applicants have dependents based on the historical dataset?\n",
    "\n",
    "6. How do the incomes of those who are employed compare to those who are self employed based on the historical dataset? \n",
    "\n",
    "7. Are applicants with a credit history more likely to default than those who do not have one?\n",
    "\n",
    "8. Is there a correlation between the applicant's income and the loan amount they applied for? \n",
    "\n",
    "### Part Two\n",
    "\n",
    "Run the AutoML section and then fill in code for the traditional ML section for the the omitted cells.\n",
    "\n",
    "Please note that the notebook you submit must include the analysis you did in Task 2.\n",
    "\n",
    "\n",
    "\n",
    "\n",
    "\n",
    "\n",
    "\n",
    "\n",
    "\n"
   ]
  },
  {
   "cell_type": "markdown",
   "metadata": {
    "id": "A4eh9B5BWWRd"
   },
   "source": [
    "\n",
    "\n",
    "## Import Libraries\n",
    "\n",
    "\n"
   ]
  },
  {
   "cell_type": "code",
   "execution_count": 1,
   "metadata": {
    "id": "VBYqkO29tE9X"
   },
   "outputs": [
    {
     "name": "stdout",
     "output_type": "stream",
     "text": [
      "Requirement already satisfied: sweetviz in c:\\users\\monga\\.anaconda\\conda.new\\lib\\site-packages (2.1.4)\n",
      "Requirement already satisfied: pandas!=1.0.0,!=1.0.1,!=1.0.2,>=0.25.3 in c:\\users\\monga\\.anaconda\\conda.new\\lib\\site-packages (from sweetviz) (1.4.4)\n",
      "Requirement already satisfied: importlib-resources>=1.2.0 in c:\\users\\monga\\.anaconda\\conda.new\\lib\\site-packages (from sweetviz) (5.12.0)\n",
      "Requirement already satisfied: tqdm>=4.43.0 in c:\\users\\monga\\.anaconda\\conda.new\\lib\\site-packages (from sweetviz) (4.64.0)\n",
      "Requirement already satisfied: scipy>=1.3.2 in c:\\users\\monga\\.anaconda\\conda.new\\lib\\site-packages (from sweetviz) (1.10.1)\n",
      "Requirement already satisfied: jinja2>=2.11.1 in c:\\users\\monga\\.anaconda\\conda.new\\lib\\site-packages (from sweetviz) (2.11.3)\n",
      "Requirement already satisfied: matplotlib>=3.1.3 in c:\\users\\monga\\.anaconda\\conda.new\\lib\\site-packages (from sweetviz) (3.5.1)\n",
      "Requirement already satisfied: numpy>=1.16.0 in c:\\users\\monga\\.anaconda\\conda.new\\lib\\site-packages (from sweetviz) (1.21.5)\n",
      "Requirement already satisfied: zipp>=3.1.0 in c:\\users\\monga\\.anaconda\\conda.new\\lib\\site-packages (from importlib-resources>=1.2.0->sweetviz) (3.7.0)\n",
      "Requirement already satisfied: MarkupSafe>=0.23 in c:\\users\\monga\\.anaconda\\conda.new\\lib\\site-packages (from jinja2>=2.11.1->sweetviz) (2.0.1)\n",
      "Requirement already satisfied: python-dateutil>=2.7 in c:\\users\\monga\\.anaconda\\conda.new\\lib\\site-packages (from matplotlib>=3.1.3->sweetviz) (2.8.2)\n",
      "Requirement already satisfied: pyparsing>=2.2.1 in c:\\users\\monga\\.anaconda\\conda.new\\lib\\site-packages (from matplotlib>=3.1.3->sweetviz) (3.0.4)\n",
      "Requirement already satisfied: cycler>=0.10 in c:\\users\\monga\\.anaconda\\conda.new\\lib\\site-packages (from matplotlib>=3.1.3->sweetviz) (0.11.0)\n",
      "Requirement already satisfied: kiwisolver>=1.0.1 in c:\\users\\monga\\.anaconda\\conda.new\\lib\\site-packages (from matplotlib>=3.1.3->sweetviz) (1.3.2)\n",
      "Requirement already satisfied: fonttools>=4.22.0 in c:\\users\\monga\\.anaconda\\conda.new\\lib\\site-packages (from matplotlib>=3.1.3->sweetviz) (4.25.0)\n",
      "Requirement already satisfied: packaging>=20.0 in c:\\users\\monga\\.anaconda\\conda.new\\lib\\site-packages (from matplotlib>=3.1.3->sweetviz) (21.3)\n",
      "Requirement already satisfied: pillow>=6.2.0 in c:\\users\\monga\\.anaconda\\conda.new\\lib\\site-packages (from matplotlib>=3.1.3->sweetviz) (9.0.1)\n",
      "Requirement already satisfied: pytz>=2020.1 in c:\\users\\monga\\.anaconda\\conda.new\\lib\\site-packages (from pandas!=1.0.0,!=1.0.1,!=1.0.2,>=0.25.3->sweetviz) (2022.7)\n",
      "Requirement already satisfied: colorama in c:\\users\\monga\\.anaconda\\conda.new\\lib\\site-packages (from tqdm>=4.43.0->sweetviz) (0.4.4)\n",
      "Requirement already satisfied: six>=1.5 in c:\\users\\monga\\.anaconda\\conda.new\\lib\\site-packages (from python-dateutil>=2.7->matplotlib>=3.1.3->sweetviz) (1.16.0)\n",
      "Collecting auto-sklearn\n",
      "  Using cached auto-sklearn-0.15.0.tar.gz (6.5 MB)\n",
      "  Installing build dependencies: started\n",
      "  Installing build dependencies: finished with status 'done'\n",
      "  Getting requirements to build wheel: started\n",
      "  Getting requirements to build wheel: finished with status 'error'\n"
     ]
    },
    {
     "name": "stderr",
     "output_type": "stream",
     "text": [
      "  error: subprocess-exited-with-error\n",
      "  \n",
      "  Getting requirements to build wheel did not run successfully.\n",
      "  exit code: 1\n",
      "  \n",
      "  [17 lines of output]\n",
      "  Traceback (most recent call last):\n",
      "    File \"C:\\Users\\monga\\.anaconda\\conda.new\\lib\\site-packages\\pip\\_vendor\\pyproject_hooks\\_in_process\\_in_process.py\", line 353, in <module>\n",
      "      main()\n",
      "    File \"C:\\Users\\monga\\.anaconda\\conda.new\\lib\\site-packages\\pip\\_vendor\\pyproject_hooks\\_in_process\\_in_process.py\", line 335, in main\n",
      "      json_out['return_val'] = hook(**hook_input['kwargs'])\n",
      "    File \"C:\\Users\\monga\\.anaconda\\conda.new\\lib\\site-packages\\pip\\_vendor\\pyproject_hooks\\_in_process\\_in_process.py\", line 118, in get_requires_for_build_wheel\n",
      "      return hook(config_settings)\n",
      "    File \"C:\\Users\\monga\\AppData\\Local\\Temp\\pip-build-env-lnmrfzby\\overlay\\Lib\\site-packages\\setuptools\\build_meta.py\", line 338, in get_requires_for_build_wheel\n",
      "      return self._get_build_requires(config_settings, requirements=['wheel'])\n",
      "    File \"C:\\Users\\monga\\AppData\\Local\\Temp\\pip-build-env-lnmrfzby\\overlay\\Lib\\site-packages\\setuptools\\build_meta.py\", line 320, in _get_build_requires\n",
      "      self.run_setup()\n",
      "    File \"C:\\Users\\monga\\AppData\\Local\\Temp\\pip-build-env-lnmrfzby\\overlay\\Lib\\site-packages\\setuptools\\build_meta.py\", line 484, in run_setup\n",
      "      super(_BuildMetaLegacyBackend,\n",
      "    File \"C:\\Users\\monga\\AppData\\Local\\Temp\\pip-build-env-lnmrfzby\\overlay\\Lib\\site-packages\\setuptools\\build_meta.py\", line 335, in run_setup\n",
      "      exec(code, locals())\n",
      "    File \"<string>\", line 10, in <module>\n",
      "  ValueError: Detected unsupported operating system: win32. Please check the compability information of auto-sklearn: https://automl.github.io/auto-sklearn/master/installation.html#windows-osx-compatibility\n",
      "  [end of output]\n",
      "  \n",
      "  note: This error originates from a subprocess, and is likely not a problem with pip.\n",
      "error: subprocess-exited-with-error\n",
      "\n",
      "Getting requirements to build wheel did not run successfully.\n",
      "exit code: 1\n",
      "\n",
      "See above for output.\n",
      "\n",
      "note: This error originates from a subprocess, and is likely not a problem with pip.\n"
     ]
    }
   ],
   "source": [
    " !pip install sweetviz \n",
    "#uncomment the above if you need to install the library \n",
    " !pip install auto-sklearn\n",
    "#uncomment the above if you need to install the library "
   ]
  },
  {
   "cell_type": "code",
   "execution_count": 2,
   "metadata": {
    "id": "4g7jAB8W8S6P"
   },
   "outputs": [
    {
     "name": "stdout",
     "output_type": "stream",
     "text": [
      "Requirement already satisfied: scipy in c:\\users\\monga\\.anaconda\\conda.new\\lib\\site-packages (1.10.1)\n",
      "Requirement already satisfied: numpy<1.27.0,>=1.19.5 in c:\\users\\monga\\.anaconda\\conda.new\\lib\\site-packages (from scipy) (1.21.5)\n"
     ]
    }
   ],
   "source": [
    " !pip install --upgrade scipy"
   ]
  },
  {
   "cell_type": "code",
   "execution_count": 4,
   "metadata": {
    "id": "v6DBVO-4qzzA"
   },
   "outputs": [
    {
     "ename": "ModuleNotFoundError",
     "evalue": "No module named 'autosklearn'",
     "output_type": "error",
     "traceback": [
      "\u001b[1;31m---------------------------------------------------------------------------\u001b[0m",
      "\u001b[1;31mModuleNotFoundError\u001b[0m                       Traceback (most recent call last)",
      "Input \u001b[1;32mIn [4]\u001b[0m, in \u001b[0;36m<cell line: 6>\u001b[1;34m()\u001b[0m\n\u001b[0;32m      4\u001b[0m \u001b[38;5;28;01mimport\u001b[39;00m \u001b[38;5;21;01mseaborn\u001b[39;00m \u001b[38;5;28;01mas\u001b[39;00m \u001b[38;5;21;01msns\u001b[39;00m\n\u001b[0;32m      5\u001b[0m \u001b[38;5;28;01mimport\u001b[39;00m \u001b[38;5;21;01msweetviz\u001b[39;00m \n\u001b[1;32m----> 6\u001b[0m \u001b[38;5;28;01mimport\u001b[39;00m \u001b[38;5;21;01mautosklearn\u001b[39;00m\u001b[38;5;21;01m.\u001b[39;00m\u001b[38;5;21;01mclassification\u001b[39;00m \u001b[38;5;28;01mas\u001b[39;00m \u001b[38;5;21;01mclf\u001b[39;00m\n\u001b[0;32m      7\u001b[0m \u001b[38;5;28;01mfrom\u001b[39;00m \u001b[38;5;21;01msklearn\u001b[39;00m\u001b[38;5;21;01m.\u001b[39;00m\u001b[38;5;21;01mlinear_model\u001b[39;00m \u001b[38;5;28;01mimport\u001b[39;00m LogisticRegression\n\u001b[0;32m      8\u001b[0m \u001b[38;5;28;01mfrom\u001b[39;00m \u001b[38;5;21;01msklearn\u001b[39;00m\u001b[38;5;21;01m.\u001b[39;00m\u001b[38;5;21;01mmetrics\u001b[39;00m \u001b[38;5;28;01mimport\u001b[39;00m accuracy_score, confusion_matrix\n",
      "\u001b[1;31mModuleNotFoundError\u001b[0m: No module named 'autosklearn'"
     ]
    }
   ],
   "source": [
    "import pandas as pd\n",
    "import numpy as np\n",
    "import matplotlib.pyplot as plt\n",
    "import seaborn as sns\n",
    "import sweetviz \n",
    "import autosklearn.classification as clf\n",
    "from sklearn.linear_model import LogisticRegression\n",
    "from sklearn.metrics import accuracy_score, confusion_matrix\n",
    "from sklearn.model_selection import train_test_split\n",
    "from sklearn.preprocessing import StandardScaler, LabelEncoder\n",
    "from sklearn.impute import SimpleImputer"
   ]
  },
  {
   "cell_type": "markdown",
   "metadata": {
    "id": "kU8I9U4KW9mz"
   },
   "source": [
    "## Import Datasets"
   ]
  },
  {
   "cell_type": "code",
   "execution_count": null,
   "metadata": {
    "id": "bBojC5ovXG-g"
   },
   "outputs": [],
   "source": [
    "train = pd.read_csv('train.csv')\n",
    "test = pd.read_csv('test.csv')"
   ]
  },
  {
   "cell_type": "code",
   "execution_count": null,
   "metadata": {
    "id": "rGyHYnXNoISv"
   },
   "outputs": [],
   "source": []
  },
  {
   "cell_type": "markdown",
   "metadata": {
    "id": "W1Kd313doYT8"
   },
   "source": [
    "# Part One"
   ]
  },
  {
   "cell_type": "markdown",
   "metadata": {
    "id": "b9aS4gz5ZKsE"
   },
   "source": [
    "## EDA"
   ]
  },
  {
   "cell_type": "code",
   "execution_count": null,
   "metadata": {
    "colab": {
     "base_uri": "https://localhost:8080/",
     "height": 287
    },
    "id": "DfFhyw-xZPRN",
    "outputId": "936f2cc2-805f-46ad-b802-951c7bcbf939"
   },
   "outputs": [],
   "source": [
    "train.head()"
   ]
  },
  {
   "cell_type": "code",
   "execution_count": null,
   "metadata": {
    "colab": {
     "base_uri": "https://localhost:8080/",
     "height": 287
    },
    "id": "o-4cXyj2ZVls",
    "outputId": "3271f973-a15a-418d-b472-b694d2352423"
   },
   "outputs": [],
   "source": [
    "test.head()"
   ]
  },
  {
   "cell_type": "code",
   "execution_count": null,
   "metadata": {
    "colab": {
     "base_uri": "https://localhost:8080/",
     "height": 287
    },
    "id": "YvAVevIiZYw_",
    "outputId": "32216ef7-47ce-46b3-e79d-8d248b9e54bf"
   },
   "outputs": [],
   "source": [
    "# we concat for easy analysis\n",
    "n = train.shape[0] # we set this to be able to separate the\n",
    "df = pd.concat([train, test], axis=0)\n",
    "df.head()"
   ]
  },
  {
   "cell_type": "markdown",
   "metadata": {
    "id": "cdTHtXlKt3_k"
   },
   "source": [
    "### Sweetviz"
   ]
  },
  {
   "cell_type": "code",
   "execution_count": null,
   "metadata": {
    "colab": {
     "base_uri": "https://localhost:8080/",
     "height": 803,
     "referenced_widgets": [
      "771ab61cc9c249888e762c99ccc875d3",
      "b70facba8af84867a3344f495fa1e998",
      "8e0f3f8287a54c5eac3ffa19654a6932",
      "965bbae1ccf04cf895ac527f5adaa808",
      "81c19d1f68994ef8990582e72fe3e1bc",
      "95b33174f8d04feea3c9155500dddb70",
      "f794082c99d64f4b86d5fbaf483e15cf",
      "c1a518aef2254f86aa7b635af6b66e89",
      "e9c0af368aae40a98b4a5646a651bef5",
      "a0a7b720bed2470e85e98f1529fda540",
      "39ed6e19be6d44d381097be3f0660bb5"
     ]
    },
    "id": "fAKTNiGXuCRf",
    "outputId": "17441683-81c6-4321-a435-f394371d2549"
   },
   "outputs": [],
   "source": [
    "autoEDA = sweetviz.analyze(train)\n",
    "autoEDA.show_notebook()"
   ]
  },
  {
   "cell_type": "markdown",
   "metadata": {
    "id": "f4xUxUnWw9lM"
   },
   "source": [
    "### Your Own EDA \n"
   ]
  },
  {
   "cell_type": "code",
   "execution_count": null,
   "metadata": {
    "id": "icnfcLWCxSVF"
   },
   "outputs": [],
   "source": []
  },
  {
   "cell_type": "code",
   "execution_count": null,
   "metadata": {
    "id": "mShsnxSVxTm-"
   },
   "outputs": [],
   "source": []
  },
  {
   "cell_type": "code",
   "execution_count": null,
   "metadata": {
    "id": "7MF-0mmCMU4s"
   },
   "outputs": [],
   "source": []
  },
  {
   "cell_type": "code",
   "execution_count": null,
   "metadata": {
    "id": "-UX4HT2HnuaU"
   },
   "outputs": [],
   "source": []
  },
  {
   "cell_type": "markdown",
   "metadata": {
    "id": "Sxje0-fKnweP"
   },
   "source": [
    "## Your anwers:\n",
    "\n",
    "1.\n",
    "\n",
    "2.\n",
    "\n",
    "3.\n",
    "\n",
    "4.\n",
    "\n",
    "5.\n",
    "\n",
    "6.\n",
    "\n",
    "7.\n",
    "\n",
    "8.\n",
    "\n",
    "9.\n",
    "\n",
    "10."
   ]
  },
  {
   "cell_type": "code",
   "execution_count": null,
   "metadata": {
    "id": "On6H41ZyojSF"
   },
   "outputs": [],
   "source": []
  },
  {
   "cell_type": "markdown",
   "metadata": {
    "id": "_cREnyFxojqm"
   },
   "source": [
    "# Part Two"
   ]
  },
  {
   "cell_type": "markdown",
   "metadata": {
    "id": "huNBju-TMV88"
   },
   "source": [
    "## Auto ML wth autosklearn\n"
   ]
  },
  {
   "cell_type": "code",
   "execution_count": null,
   "metadata": {
    "colab": {
     "base_uri": "https://localhost:8080/"
    },
    "id": "wDlAmmP6MgQF",
    "outputId": "a5082900-2c5e-4eef-c68e-5af05b9bb57f"
   },
   "outputs": [],
   "source": [
    "# Matrix of features\n",
    "\n",
    "X = train[['Gender',\n",
    "'Married',\n",
    "'Dependents',\n",
    "'Education',\n",
    "'Self_Employed',\n",
    "'ApplicantIncome',\n",
    "'CoapplicantIncome',\n",
    "'LoanAmount',\n",
    "'Loan_Amount_Term',\n",
    "'Credit_History',\n",
    "'Property_Area']]\n",
    "\n",
    "# convert string(text) to categorical\n",
    "X['Gender'] = X['Gender'].astype('category')\n",
    "X['Married'] = X['Married'].astype('category')\n",
    "X['Education'] = X['Education'].astype('category')\n",
    "X['Dependents'] = X['Dependents'].astype('category')\n",
    "X['Self_Employed'] = X['Self_Employed'].astype('category')\n",
    "X['Property_Area'] = X['Property_Area'].astype('category')\n",
    "\n",
    "\n",
    "# label encode target\n",
    "y = train['Loan_Status'].map({'N':0,'Y':1}).astype(int)\n",
    "\n",
    "\n",
    "# # train-test split\n",
    "X_train, X_test, y_train, y_test = train_test_split(X, y, test_size=0.2, random_state=42)"
   ]
  },
  {
   "cell_type": "code",
   "execution_count": null,
   "metadata": {
    "id": "9wwYMdK_McJt"
   },
   "outputs": [],
   "source": [
    "# train\n",
    "autoML = autosklearn.classification.AutoSklearnClassifier(time_left_for_this_task=2*30, per_run_time_limit=30, n_jobs=8) # imposing a 1 minute time limit on this\n",
    "autoML.fit(X_train, y_train)\n",
    "\n",
    "# predict\n",
    "predictions_autoML = autoML.predict(X_test)"
   ]
  },
  {
   "cell_type": "code",
   "execution_count": null,
   "metadata": {
    "colab": {
     "base_uri": "https://localhost:8080/"
    },
    "id": "qnbGH9zS-WYh",
    "outputId": "ca065a45-fc40-48be-a6a5-ef8f3d349e7a"
   },
   "outputs": [],
   "source": [
    "print('Model Accuracy:', accuracy_score(predictions_autoML, y_test))"
   ]
  },
  {
   "cell_type": "code",
   "execution_count": null,
   "metadata": {
    "colab": {
     "base_uri": "https://localhost:8080/"
    },
    "id": "pNPPfGUtOnJ9",
    "outputId": "4867d9cd-cccc-4e2b-c7fa-42aab7114f1c"
   },
   "outputs": [],
   "source": [
    "print(confusion_matrix(predictions_autoML, y_test))"
   ]
  },
  {
   "cell_type": "markdown",
   "metadata": {
    "id": "QKCOAsTS-J1P"
   },
   "source": [
    "## Bespoke ML sklearn\n",
    "\n",
    "### Data Preparation"
   ]
  },
  {
   "cell_type": "markdown",
   "metadata": {
    "id": "JyrDybWr-njD"
   },
   "source": []
  },
  {
   "cell_type": "code",
   "execution_count": null,
   "metadata": {
    "id": "4GqQNbTM-ShM"
   },
   "outputs": [],
   "source": [
    "# Matrix of features\n",
    "\n",
    "df = train[['Education',\n",
    "'Property_Area']]\n",
    "\n",
    "### Include Numerical Features Here ###\n",
    "### Handle Missing Values Here ###\n",
    "### Scale Here ###\n",
    "\n",
    "\n",
    "# label encode target\n",
    "y = train['Loan_Status'].map({'N':0,'Y':1}).astype(int)\n",
    "\n",
    "# # encode with get dummies\n",
    "X = pd.DataFrame(df, columns=df.columns)\n",
    "X = pd.get_dummies(X, drop_first=True)\n",
    "\n",
    "# # train-test split\n",
    "X_train, X_test, y_train, y_test = train_test_split(X, y, test_size=0.2, random_state=42)"
   ]
  },
  {
   "cell_type": "code",
   "execution_count": null,
   "metadata": {
    "colab": {
     "base_uri": "https://localhost:8080/"
    },
    "id": "kUrCfRIuLP0c",
    "outputId": "a030057b-da17-47fe-b543-ebb9d2f72210"
   },
   "outputs": [],
   "source": [
    "# some classifiers you can pick from (remember to import)\n",
    "import sklearn\n",
    "classifiers = sklearn.utils.all_estimators(type_filter=None)\n",
    "for name, class_ in classifiers:\n",
    "    if hasattr(class_, 'predict_proba'):\n",
    "        print(name)"
   ]
  },
  {
   "cell_type": "code",
   "execution_count": null,
   "metadata": {
    "id": "d4XD_9K4E4Ue"
   },
   "outputs": [],
   "source": [
    "# train\n",
    "clf = LogisticRegression() #change model here\n",
    "clf.fit(X_train, y_train)\n",
    "\n",
    "# predict\n",
    "predictions_clf = clf.predict(X_test)"
   ]
  },
  {
   "cell_type": "code",
   "execution_count": null,
   "metadata": {
    "colab": {
     "base_uri": "https://localhost:8080/"
    },
    "id": "NxjXP1nsJ_lT",
    "outputId": "28d6396e-c134-4aff-85c5-9cfdb4904f8a"
   },
   "outputs": [],
   "source": [
    "print('Model Accuracy:', accuracy_score(predictions_clf, y_test))"
   ]
  },
  {
   "cell_type": "code",
   "execution_count": null,
   "metadata": {
    "colab": {
     "base_uri": "https://localhost:8080/"
    },
    "id": "dd48F7-rLBNC",
    "outputId": "e0707d41-e687-4d7e-b99a-bdae033a02df"
   },
   "outputs": [],
   "source": [
    "print(confusion_matrix(predictions_clf, y_test))"
   ]
  }
 ],
 "metadata": {
  "colab": {
   "collapsed_sections": [],
   "name": "Task_2.ipynb",
   "provenance": []
  },
  "kernelspec": {
   "display_name": "Python 3 (ipykernel)",
   "language": "python",
   "name": "python3"
  },
  "language_info": {
   "codemirror_mode": {
    "name": "ipython",
    "version": 3
   },
   "file_extension": ".py",
   "mimetype": "text/x-python",
   "name": "python",
   "nbconvert_exporter": "python",
   "pygments_lexer": "ipython3",
   "version": "3.9.12"
  },
  "widgets": {
   "application/vnd.jupyter.widget-state+json": {
    "39ed6e19be6d44d381097be3f0660bb5": {
     "model_module": "@jupyter-widgets/controls",
     "model_module_version": "1.5.0",
     "model_name": "DescriptionStyleModel",
     "state": {
      "_model_module": "@jupyter-widgets/controls",
      "_model_module_version": "1.5.0",
      "_model_name": "DescriptionStyleModel",
      "_view_count": null,
      "_view_module": "@jupyter-widgets/base",
      "_view_module_version": "1.2.0",
      "_view_name": "StyleView",
      "description_width": ""
     }
    },
    "771ab61cc9c249888e762c99ccc875d3": {
     "model_module": "@jupyter-widgets/controls",
     "model_module_version": "1.5.0",
     "model_name": "HBoxModel",
     "state": {
      "_dom_classes": [],
      "_model_module": "@jupyter-widgets/controls",
      "_model_module_version": "1.5.0",
      "_model_name": "HBoxModel",
      "_view_count": null,
      "_view_module": "@jupyter-widgets/controls",
      "_view_module_version": "1.5.0",
      "_view_name": "HBoxView",
      "box_style": "",
      "children": [
       "IPY_MODEL_b70facba8af84867a3344f495fa1e998",
       "IPY_MODEL_8e0f3f8287a54c5eac3ffa19654a6932",
       "IPY_MODEL_965bbae1ccf04cf895ac527f5adaa808"
      ],
      "layout": "IPY_MODEL_81c19d1f68994ef8990582e72fe3e1bc"
     }
    },
    "81c19d1f68994ef8990582e72fe3e1bc": {
     "model_module": "@jupyter-widgets/base",
     "model_module_version": "1.2.0",
     "model_name": "LayoutModel",
     "state": {
      "_model_module": "@jupyter-widgets/base",
      "_model_module_version": "1.2.0",
      "_model_name": "LayoutModel",
      "_view_count": null,
      "_view_module": "@jupyter-widgets/base",
      "_view_module_version": "1.2.0",
      "_view_name": "LayoutView",
      "align_content": null,
      "align_items": null,
      "align_self": null,
      "border": null,
      "bottom": null,
      "display": "inline-flex",
      "flex": null,
      "flex_flow": "row wrap",
      "grid_area": null,
      "grid_auto_columns": null,
      "grid_auto_flow": null,
      "grid_auto_rows": null,
      "grid_column": null,
      "grid_gap": null,
      "grid_row": null,
      "grid_template_areas": null,
      "grid_template_columns": null,
      "grid_template_rows": null,
      "height": null,
      "justify_content": null,
      "justify_items": null,
      "left": null,
      "margin": null,
      "max_height": null,
      "max_width": null,
      "min_height": null,
      "min_width": null,
      "object_fit": null,
      "object_position": null,
      "order": null,
      "overflow": null,
      "overflow_x": null,
      "overflow_y": null,
      "padding": null,
      "right": null,
      "top": null,
      "visibility": null,
      "width": "100%"
     }
    },
    "8e0f3f8287a54c5eac3ffa19654a6932": {
     "model_module": "@jupyter-widgets/controls",
     "model_module_version": "1.5.0",
     "model_name": "FloatProgressModel",
     "state": {
      "_dom_classes": [],
      "_model_module": "@jupyter-widgets/controls",
      "_model_module_version": "1.5.0",
      "_model_name": "FloatProgressModel",
      "_view_count": null,
      "_view_module": "@jupyter-widgets/controls",
      "_view_module_version": "1.5.0",
      "_view_name": "ProgressView",
      "bar_style": "success",
      "description": "",
      "description_tooltip": null,
      "layout": "IPY_MODEL_c1a518aef2254f86aa7b635af6b66e89",
      "max": 1,
      "min": 0,
      "orientation": "horizontal",
      "style": "IPY_MODEL_e9c0af368aae40a98b4a5646a651bef5",
      "value": 1
     }
    },
    "95b33174f8d04feea3c9155500dddb70": {
     "model_module": "@jupyter-widgets/base",
     "model_module_version": "1.2.0",
     "model_name": "LayoutModel",
     "state": {
      "_model_module": "@jupyter-widgets/base",
      "_model_module_version": "1.2.0",
      "_model_name": "LayoutModel",
      "_view_count": null,
      "_view_module": "@jupyter-widgets/base",
      "_view_module_version": "1.2.0",
      "_view_name": "LayoutView",
      "align_content": null,
      "align_items": null,
      "align_self": null,
      "border": null,
      "bottom": null,
      "display": null,
      "flex": null,
      "flex_flow": null,
      "grid_area": null,
      "grid_auto_columns": null,
      "grid_auto_flow": null,
      "grid_auto_rows": null,
      "grid_column": null,
      "grid_gap": null,
      "grid_row": null,
      "grid_template_areas": null,
      "grid_template_columns": null,
      "grid_template_rows": null,
      "height": null,
      "justify_content": null,
      "justify_items": null,
      "left": null,
      "margin": null,
      "max_height": null,
      "max_width": null,
      "min_height": null,
      "min_width": null,
      "object_fit": null,
      "object_position": null,
      "order": null,
      "overflow": null,
      "overflow_x": null,
      "overflow_y": null,
      "padding": null,
      "right": null,
      "top": null,
      "visibility": null,
      "width": null
     }
    },
    "965bbae1ccf04cf895ac527f5adaa808": {
     "model_module": "@jupyter-widgets/controls",
     "model_module_version": "1.5.0",
     "model_name": "HTMLModel",
     "state": {
      "_dom_classes": [],
      "_model_module": "@jupyter-widgets/controls",
      "_model_module_version": "1.5.0",
      "_model_name": "HTMLModel",
      "_view_count": null,
      "_view_module": "@jupyter-widgets/controls",
      "_view_module_version": "1.5.0",
      "_view_name": "HTMLView",
      "description": "",
      "description_tooltip": null,
      "layout": "IPY_MODEL_a0a7b720bed2470e85e98f1529fda540",
      "placeholder": "​",
      "style": "IPY_MODEL_39ed6e19be6d44d381097be3f0660bb5",
      "value": " [100%]   00:01 -&gt; (00:00 left)"
     }
    },
    "a0a7b720bed2470e85e98f1529fda540": {
     "model_module": "@jupyter-widgets/base",
     "model_module_version": "1.2.0",
     "model_name": "LayoutModel",
     "state": {
      "_model_module": "@jupyter-widgets/base",
      "_model_module_version": "1.2.0",
      "_model_name": "LayoutModel",
      "_view_count": null,
      "_view_module": "@jupyter-widgets/base",
      "_view_module_version": "1.2.0",
      "_view_name": "LayoutView",
      "align_content": null,
      "align_items": null,
      "align_self": null,
      "border": null,
      "bottom": null,
      "display": null,
      "flex": null,
      "flex_flow": null,
      "grid_area": null,
      "grid_auto_columns": null,
      "grid_auto_flow": null,
      "grid_auto_rows": null,
      "grid_column": null,
      "grid_gap": null,
      "grid_row": null,
      "grid_template_areas": null,
      "grid_template_columns": null,
      "grid_template_rows": null,
      "height": null,
      "justify_content": null,
      "justify_items": null,
      "left": null,
      "margin": null,
      "max_height": null,
      "max_width": null,
      "min_height": null,
      "min_width": null,
      "object_fit": null,
      "object_position": null,
      "order": null,
      "overflow": null,
      "overflow_x": null,
      "overflow_y": null,
      "padding": null,
      "right": null,
      "top": null,
      "visibility": null,
      "width": null
     }
    },
    "b70facba8af84867a3344f495fa1e998": {
     "model_module": "@jupyter-widgets/controls",
     "model_module_version": "1.5.0",
     "model_name": "HTMLModel",
     "state": {
      "_dom_classes": [],
      "_model_module": "@jupyter-widgets/controls",
      "_model_module_version": "1.5.0",
      "_model_name": "HTMLModel",
      "_view_count": null,
      "_view_module": "@jupyter-widgets/controls",
      "_view_module_version": "1.5.0",
      "_view_name": "HTMLView",
      "description": "",
      "description_tooltip": null,
      "layout": "IPY_MODEL_95b33174f8d04feea3c9155500dddb70",
      "placeholder": "​",
      "style": "IPY_MODEL_f794082c99d64f4b86d5fbaf483e15cf",
      "value": "Done! Use &#x27;show&#x27; commands to display/save.   "
     }
    },
    "c1a518aef2254f86aa7b635af6b66e89": {
     "model_module": "@jupyter-widgets/base",
     "model_module_version": "1.2.0",
     "model_name": "LayoutModel",
     "state": {
      "_model_module": "@jupyter-widgets/base",
      "_model_module_version": "1.2.0",
      "_model_name": "LayoutModel",
      "_view_count": null,
      "_view_module": "@jupyter-widgets/base",
      "_view_module_version": "1.2.0",
      "_view_name": "LayoutView",
      "align_content": null,
      "align_items": null,
      "align_self": null,
      "border": null,
      "bottom": null,
      "display": null,
      "flex": "2",
      "flex_flow": null,
      "grid_area": null,
      "grid_auto_columns": null,
      "grid_auto_flow": null,
      "grid_auto_rows": null,
      "grid_column": null,
      "grid_gap": null,
      "grid_row": null,
      "grid_template_areas": null,
      "grid_template_columns": null,
      "grid_template_rows": null,
      "height": null,
      "justify_content": null,
      "justify_items": null,
      "left": null,
      "margin": null,
      "max_height": null,
      "max_width": null,
      "min_height": null,
      "min_width": null,
      "object_fit": null,
      "object_position": null,
      "order": null,
      "overflow": null,
      "overflow_x": null,
      "overflow_y": null,
      "padding": null,
      "right": null,
      "top": null,
      "visibility": null,
      "width": null
     }
    },
    "e9c0af368aae40a98b4a5646a651bef5": {
     "model_module": "@jupyter-widgets/controls",
     "model_module_version": "1.5.0",
     "model_name": "ProgressStyleModel",
     "state": {
      "_model_module": "@jupyter-widgets/controls",
      "_model_module_version": "1.5.0",
      "_model_name": "ProgressStyleModel",
      "_view_count": null,
      "_view_module": "@jupyter-widgets/base",
      "_view_module_version": "1.2.0",
      "_view_name": "StyleView",
      "bar_color": null,
      "description_width": ""
     }
    },
    "f794082c99d64f4b86d5fbaf483e15cf": {
     "model_module": "@jupyter-widgets/controls",
     "model_module_version": "1.5.0",
     "model_name": "DescriptionStyleModel",
     "state": {
      "_model_module": "@jupyter-widgets/controls",
      "_model_module_version": "1.5.0",
      "_model_name": "DescriptionStyleModel",
      "_view_count": null,
      "_view_module": "@jupyter-widgets/base",
      "_view_module_version": "1.2.0",
      "_view_name": "StyleView",
      "description_width": ""
     }
    }
   }
  }
 },
 "nbformat": 4,
 "nbformat_minor": 1
}
